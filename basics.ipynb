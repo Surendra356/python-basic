{
 "cells": [
  {
   "cell_type": "code",
   "execution_count": 5,
   "metadata": {},
   "outputs": [
    {
     "name": "stdout",
     "output_type": "stream",
     "text": [
      "6\n",
      "6\n",
      "6 6\n",
      "X is string 6 y is an int 6\n"
     ]
    }
   ],
   "source": [
    "x=\"6\"\n",
    "print(x)\n",
    "y=6\n",
    "print(y)\n",
    "print(x,y)\n",
    "print(\"X is string\",x,\"y is an int\",6)"
   ]
  },
  {
   "cell_type": "code",
   "execution_count": 7,
   "metadata": {},
   "outputs": [
    {
     "name": "stdout",
     "output_type": "stream",
     "text": [
      "10\n",
      "which confirms y is an int 6\n"
     ]
    }
   ],
   "source": [
    "z=y=y+2\n",
    "print(z)\n",
    "print(\"which confirms y is an int 6\")"
   ]
  },
  {
   "cell_type": "code",
   "execution_count": 15,
   "metadata": {},
   "outputs": [
    {
     "name": "stdout",
     "output_type": "stream",
     "text": [
      "6It's a stingIt's a sting It's a sting  It's a stingIt's a sting\n",
      "which confirms w is a string\n"
     ]
    }
   ],
   "source": [
    "w=x+\"It's a sting\"\n",
    "print(w)\n",
    "print(\"which confirms w is a string\")"
   ]
  },
  {
   "cell_type": "code",
   "execution_count": null,
   "metadata": {},
   "outputs": [],
   "source": []
  }
 ],
 "metadata": {
  "kernelspec": {
   "display_name": "Python 3",
   "language": "python",
   "name": "python3"
  },
  "language_info": {
   "codemirror_mode": {
    "name": "ipython",
    "version": 3
   },
   "file_extension": ".py",
   "mimetype": "text/x-python",
   "name": "python",
   "nbconvert_exporter": "python",
   "pygments_lexer": "ipython3",
   "version": "3.9.6"
  }
 },
 "nbformat": 4,
 "nbformat_minor": 2
}
